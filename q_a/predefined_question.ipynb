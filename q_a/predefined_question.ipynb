{
 "cells": [
  {
   "cell_type": "code",
   "execution_count": 1,
   "metadata": {},
   "outputs": [],
   "source": [
    "import pandas as pd"
   ]
  },
  {
   "cell_type": "code",
   "execution_count": 2,
   "metadata": {},
   "outputs": [],
   "source": [
    "df = pd.read_pickle(\"../data/\" + 'train_data_criteria.pkl')"
   ]
  },
  {
   "cell_type": "code",
   "execution_count": 4,
   "metadata": {},
   "outputs": [],
   "source": [
    "#replace all Nans with \"Not Available\"\n",
    "\n",
    "df.fillna(\"Not Available\", inplace=True)"
   ]
  },
  {
   "cell_type": "code",
   "execution_count": 5,
   "metadata": {},
   "outputs": [],
   "source": [
    "#first look at intervention_name column. convert to a set of strings. \n",
    "\n",
    "df.intervention_name = df.intervention_name.apply(lambda x: set(x.split(\",\"))) \n",
    "\n",
    "#convert to set of strings\n",
    "\n",
    "df.intervention_name = df.intervention_name.apply(lambda x: set([str(i).strip() for i in x]))\n",
    "\n",
    "#convert back to string\n",
    "\n",
    "df.intervention_name = df.intervention_name.apply(lambda x: \",\".join(x))"
   ]
  },
  {
   "cell_type": "code",
   "execution_count": 6,
   "metadata": {},
   "outputs": [],
   "source": [
    "#create a new column called q_a_intervention. each row should have a list with one q/a pair. example ['What are the drugs used?', drug names from intervention_name column]\n",
    "\n",
    "df['q_a_intervention'] = df['intervention_name'].apply(lambda x: [ 'What are the drugs used? '+ x])"
   ]
  },
  {
   "cell_type": "code",
   "execution_count": 7,
   "metadata": {},
   "outputs": [],
   "source": [
    "#create a new column called q_a_disease. each row should have a list with one q/a pair. example ['What is the disease?', disease name from disease column]\n",
    "\n",
    "df['q_a_disease'] = df['disease'].apply(lambda x: [ 'What is the disease treated in this trial? '+ x])"
   ]
  },
  {
   "cell_type": "code",
   "execution_count": 8,
   "metadata": {},
   "outputs": [],
   "source": [
    "#create a new column called q_a_outcome. each row should have a list with one q/a pair. example ['What are the outcome measurements?', outcome_measurements from outcome_measurements column]\n",
    "\n",
    "df['q_a_outcome'] = df['outcome_measures'].apply(lambda x: [ 'What are the outcome measurements? '+ x])"
   ]
  },
  {
   "cell_type": "code",
   "execution_count": 9,
   "metadata": {},
   "outputs": [],
   "source": [
    "#create a new column called q_a_keyword. each row should have a list with one q/a pair. example ['What are the keywords?', keywords from keyword column]\n",
    "\n",
    "df['q_a_keywords'] = df['keywords'].apply(lambda x: [ 'What are the keywords? '+ x])"
   ]
  },
  {
   "cell_type": "code",
   "execution_count": 10,
   "metadata": {},
   "outputs": [
    {
     "data": {
      "text/plain": [
       "(731, 14)"
      ]
     },
     "execution_count": 10,
     "metadata": {},
     "output_type": "execute_result"
    }
   ],
   "source": [
    "df.shape"
   ]
  },
  {
   "cell_type": "code",
   "execution_count": 11,
   "metadata": {},
   "outputs": [
    {
     "data": {
      "text/plain": [
       "(13, 14)"
      ]
     },
     "execution_count": 11,
     "metadata": {},
     "output_type": "execute_result"
    }
   ],
   "source": [
    "#titles not available rows\n",
    "\n",
    "df[df.title == \"Not Available\"].shape\n",
    "\n"
   ]
  },
  {
   "cell_type": "code",
   "execution_count": 12,
   "metadata": {},
   "outputs": [],
   "source": [
    "#create a new column called q_a_title. each row should have a list with one q/a pair. example ['What is the title of the trial?', title from title column]\n",
    "\n",
    "df['q_a_title'] = df['title'].apply(lambda x: [ 'What is the title of the trial? '+ x])"
   ]
  },
  {
   "cell_type": "code",
   "execution_count": 15,
   "metadata": {},
   "outputs": [],
   "source": [
    "#save as pickle\n",
    "\n",
    "df.to_csv(\"../data/\"  + 'train_data_criteria.pkl')"
   ]
  },
  {
   "cell_type": "markdown",
   "metadata": {},
   "source": []
  },
  {
   "cell_type": "markdown",
   "metadata": {},
   "source": []
  },
  {
   "cell_type": "markdown",
   "metadata": {},
   "source": []
  }
 ],
 "metadata": {
  "kernelspec": {
   "display_name": "base",
   "language": "python",
   "name": "python3"
  },
  "language_info": {
   "codemirror_mode": {
    "name": "ipython",
    "version": 3
   },
   "file_extension": ".py",
   "mimetype": "text/x-python",
   "name": "python",
   "nbconvert_exporter": "python",
   "pygments_lexer": "ipython3",
   "version": "3.11.4"
  }
 },
 "nbformat": 4,
 "nbformat_minor": 2
}
