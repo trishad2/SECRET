{
 "cells": [
  {
   "cell_type": "code",
   "execution_count": 1,
   "metadata": {},
   "outputs": [],
   "source": [
    "import pandas as pd\n",
    "\n",
    "df = pd.read_csv(\"../data/\" + 'train_data_criteria.csv')"
   ]
  },
  {
   "cell_type": "code",
   "execution_count": 3,
   "metadata": {},
   "outputs": [],
   "source": [
    "import ast\n",
    "\n",
    "def parse_q_a_criteria(q_a_criteria):\n",
    "    \"\"\"\n",
    "    Converts a string of question-answer pairs into a list of formatted strings.\n",
    "\n",
    "    Parameters:\n",
    "    q_a_criteria (str): Input string containing question-answer pairs.\n",
    "\n",
    "    Returns:\n",
    "    list: List of strings combining questions and answers.\n",
    "    \"\"\"\n",
    "    result = []\n",
    "    # Split by newline to handle individual JSON-like entries\n",
    "    for entry in q_a_criteria.split('\\n'):\n",
    "        try:\n",
    "            # Safely evaluate the string to a dictionary\n",
    "            qa_dict = ast.literal_eval(entry)\n",
    "            if 'Question' in qa_dict and 'Answer' in qa_dict:\n",
    "                # Format the question-answer pair\n",
    "                result.append(f\"{qa_dict['Question']} {qa_dict['Answer']}\")\n",
    "        except (ValueError, SyntaxError):\n",
    "            continue\n",
    "    return result"
   ]
  },
  {
   "cell_type": "markdown",
   "metadata": {},
   "source": [
    "criteria"
   ]
  },
  {
   "cell_type": "code",
   "execution_count": 6,
   "metadata": {},
   "outputs": [],
   "source": [
    "#look for trials where q_a_criteria do not have any '{' character, replace text with {'Question': 'No question', 'Answer': 'No answer'}\n",
    "\n",
    "df['q_a_criteria'] = df['q_a_criteria'].apply(lambda x: x if '{' in x else \"{'Question': 'No question', 'Answer': 'No answer'}\")\n",
    "\n",
    "#look for trials where q_a_criteria have any '{' character\n",
    "\n",
    "df['q_a_criteria'].apply(lambda x: '{' in x).value_counts()\n",
    "\n",
    "df_prime = df[df['q_a_criteria'].str.endswith('}') == False]"
   ]
  },
  {
   "cell_type": "code",
   "execution_count": 7,
   "metadata": {},
   "outputs": [
    {
     "name": "stderr",
     "output_type": "stream",
     "text": [
      "/tmp/ipykernel_4019616/755035883.py:3: SettingWithCopyWarning: \n",
      "A value is trying to be set on a copy of a slice from a DataFrame.\n",
      "Try using .loc[row_indexer,col_indexer] = value instead\n",
      "\n",
      "See the caveats in the documentation: https://pandas.pydata.org/pandas-docs/stable/user_guide/indexing.html#returning-a-view-versus-a-copy\n",
      "  df_prime['q_a_criteria'] = df_prime['q_a_criteria'].apply(lambda x: x[:x.rfind('}')+1])\n"
     ]
    }
   ],
   "source": [
    "#remove the sibstring after the last '}' \n",
    "\n",
    "df_prime['q_a_criteria'] = df_prime['q_a_criteria'].apply(lambda x: x[:x.rfind('}')+1])"
   ]
  },
  {
   "cell_type": "code",
   "execution_count": 8,
   "metadata": {},
   "outputs": [
    {
     "data": {
      "text/plain": [
       "(40000, 10)"
      ]
     },
     "execution_count": 8,
     "metadata": {},
     "output_type": "execute_result"
    }
   ],
   "source": [
    "#remove the rows that are in df_prime from df. then concatenate df and df_prime\n",
    "\n",
    "df = df[~df['q_a_criteria'].str.endswith('}') == False]\n",
    "\n",
    "df = pd.concat([df, df_prime])\n"
   ]
  },
  {
   "cell_type": "code",
   "execution_count": 9,
   "metadata": {},
   "outputs": [],
   "source": [
    "#reset index\n",
    "\n",
    "df.reset_index(drop=True, inplace=True)"
   ]
  },
  {
   "cell_type": "code",
   "execution_count": 10,
   "metadata": {},
   "outputs": [],
   "source": [
    "df['q_a_criteria'] = df['q_a_criteria'].apply(parse_q_a_criteria)"
   ]
  },
  {
   "cell_type": "code",
   "execution_count": 13,
   "metadata": {},
   "outputs": [],
   "source": [
    "df.to_pickle(\"../data/\" + 'train_data_criteria.pkl')"
   ]
  }
 ],
 "metadata": {
  "kernelspec": {
   "display_name": "search",
   "language": "python",
   "name": "python3"
  },
  "language_info": {
   "codemirror_mode": {
    "name": "ipython",
    "version": 3
   },
   "file_extension": ".py",
   "mimetype": "text/x-python",
   "name": "python",
   "nbconvert_exporter": "python",
   "pygments_lexer": "ipython3",
   "version": "3.11.4"
  }
 },
 "nbformat": 4,
 "nbformat_minor": 2
}
